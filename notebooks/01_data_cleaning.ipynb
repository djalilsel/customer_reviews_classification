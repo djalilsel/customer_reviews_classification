{
 "cells": [
  {
   "cell_type": "markdown",
   "id": "58b13db7",
   "metadata": {},
   "source": [
    "**Install requirements — run only once**\n",
    "\n",
    "Run the next code cell to install the packages required by this notebook. Use the `%pip` magic so installations target the current Jupyter kernel."
   ]
  },
  {
   "cell_type": "code",
   "execution_count": 93,
   "id": "e7fbe2c6",
   "metadata": {},
   "outputs": [
    {
     "name": "stdout",
     "output_type": "stream",
     "text": [
      "Requirement already satisfied: pip in c:\\users\\djalti\\appdata\\local\\programs\\python\\python311\\lib\\site-packages (25.2)\n",
      "Note: you may need to restart the kernel to use updated packages.\n",
      "Requirement already satisfied: pandas in c:\\users\\djalti\\appdata\\local\\programs\\python\\python311\\lib\\site-packages (2.3.3)\n",
      "Requirement already satisfied: numpy in c:\\users\\djalti\\appdata\\local\\programs\\python\\python311\\lib\\site-packages (2.3.3)\n",
      "Requirement already satisfied: python-dateutil>=2.8.2 in c:\\users\\djalti\\appdata\\roaming\\python\\python311\\site-packages (from pandas) (2.9.0.post0)\n",
      "Requirement already satisfied: pytz>=2020.1 in c:\\users\\djalti\\appdata\\local\\programs\\python\\python311\\lib\\site-packages (from pandas) (2025.2)\n",
      "Requirement already satisfied: tzdata>=2022.7 in c:\\users\\djalti\\appdata\\local\\programs\\python\\python311\\lib\\site-packages (from pandas) (2025.2)\n",
      "Requirement already satisfied: six>=1.5 in c:\\users\\djalti\\appdata\\roaming\\python\\python311\\site-packages (from python-dateutil>=2.8.2->pandas) (1.17.0)\n",
      "Note: you may need to restart the kernel to use updated packages.\n",
      "Requirement already satisfied: pandas in c:\\users\\djalti\\appdata\\local\\programs\\python\\python311\\lib\\site-packages (2.3.3)\n",
      "Requirement already satisfied: numpy in c:\\users\\djalti\\appdata\\local\\programs\\python\\python311\\lib\\site-packages (2.3.3)\n",
      "Requirement already satisfied: python-dateutil>=2.8.2 in c:\\users\\djalti\\appdata\\roaming\\python\\python311\\site-packages (from pandas) (2.9.0.post0)\n",
      "Requirement already satisfied: pytz>=2020.1 in c:\\users\\djalti\\appdata\\local\\programs\\python\\python311\\lib\\site-packages (from pandas) (2025.2)\n",
      "Requirement already satisfied: tzdata>=2022.7 in c:\\users\\djalti\\appdata\\local\\programs\\python\\python311\\lib\\site-packages (from pandas) (2025.2)\n",
      "Requirement already satisfied: six>=1.5 in c:\\users\\djalti\\appdata\\roaming\\python\\python311\\site-packages (from python-dateutil>=2.8.2->pandas) (1.17.0)\n",
      "Note: you may need to restart the kernel to use updated packages.\n"
     ]
    }
   ],
   "source": [
    "# Install pandas and numpy into the notebook environment (fixing spelling)\n",
    "# Use %pip so the install targets the current Jupyter environment/kernel\n",
    "%pip install --upgrade pip\n",
    "%pip install pandas numpy\n"
   ]
  },
  {
   "cell_type": "markdown",
   "id": "9838835e",
   "metadata": {},
   "source": [
    "## Looking at the Initial Dataset\n",
    "\n",
    "Before we start cleaning, let's load the raw data and take a first look at its structure.\n",
    "\n",
    "**What we'll check:**\n",
    "- Preview the first few rows to understand the data format\n",
    "- Identify the columns available in the dataset\n",
    "- Look for any obvious data quality issues\n",
    "\n",
    "This initial exploration helps us understand what we're working with and plan our cleaning strategy."
   ]
  },
  {
   "cell_type": "code",
   "execution_count": 94,
   "id": "9744fbdb",
   "metadata": {},
   "outputs": [
    {
     "data": {
      "text/html": [
       "<div>\n",
       "<style scoped>\n",
       "    .dataframe tbody tr th:only-of-type {\n",
       "        vertical-align: middle;\n",
       "    }\n",
       "\n",
       "    .dataframe tbody tr th {\n",
       "        vertical-align: top;\n",
       "    }\n",
       "\n",
       "    .dataframe thead th {\n",
       "        text-align: right;\n",
       "    }\n",
       "</style>\n",
       "<table border=\"1\" class=\"dataframe\">\n",
       "  <thead>\n",
       "    <tr style=\"text-align: right;\">\n",
       "      <th></th>\n",
       "      <th>Id</th>\n",
       "      <th>ProductId</th>\n",
       "      <th>UserId</th>\n",
       "      <th>ProfileName</th>\n",
       "      <th>HelpfulnessNumerator</th>\n",
       "      <th>HelpfulnessDenominator</th>\n",
       "      <th>Score</th>\n",
       "      <th>Time</th>\n",
       "      <th>Summary</th>\n",
       "      <th>Text</th>\n",
       "    </tr>\n",
       "  </thead>\n",
       "  <tbody>\n",
       "    <tr>\n",
       "      <th>0</th>\n",
       "      <td>165257</td>\n",
       "      <td>B000EVG8J2</td>\n",
       "      <td>A1L01D2BD3RKVO</td>\n",
       "      <td>B. Miller \"pet person\"</td>\n",
       "      <td>0</td>\n",
       "      <td>0</td>\n",
       "      <td>5</td>\n",
       "      <td>1268179200</td>\n",
       "      <td>Crunchy &amp; Good Gluten-Free Sandwich Cookies!</td>\n",
       "      <td>Having tried a couple of other brands of glute...</td>\n",
       "    </tr>\n",
       "    <tr>\n",
       "      <th>1</th>\n",
       "      <td>231466</td>\n",
       "      <td>B0000BXJIS</td>\n",
       "      <td>A3U62RE5XZDP0G</td>\n",
       "      <td>Marty</td>\n",
       "      <td>0</td>\n",
       "      <td>0</td>\n",
       "      <td>5</td>\n",
       "      <td>1298937600</td>\n",
       "      <td>great kitty treats</td>\n",
       "      <td>My cat loves these treats. If ever I can't fin...</td>\n",
       "    </tr>\n",
       "    <tr>\n",
       "      <th>2</th>\n",
       "      <td>427828</td>\n",
       "      <td>B008FHUFAU</td>\n",
       "      <td>AOXC0JQQZGGB6</td>\n",
       "      <td>Kenneth Shevlin</td>\n",
       "      <td>0</td>\n",
       "      <td>2</td>\n",
       "      <td>3</td>\n",
       "      <td>1224028800</td>\n",
       "      <td>COFFEE TASTE</td>\n",
       "      <td>A little less than I expected.  It tends to ha...</td>\n",
       "    </tr>\n",
       "    <tr>\n",
       "      <th>3</th>\n",
       "      <td>433955</td>\n",
       "      <td>B006BXV14E</td>\n",
       "      <td>A3PWPNZVMNX3PA</td>\n",
       "      <td>rareoopdvds</td>\n",
       "      <td>0</td>\n",
       "      <td>1</td>\n",
       "      <td>2</td>\n",
       "      <td>1335312000</td>\n",
       "      <td>So the Mini-Wheats were too big?</td>\n",
       "      <td>First there was Frosted Mini-Wheats, in origin...</td>\n",
       "    </tr>\n",
       "    <tr>\n",
       "      <th>4</th>\n",
       "      <td>70261</td>\n",
       "      <td>B007I7Z3Z0</td>\n",
       "      <td>A1XNZ7PCE45KK7</td>\n",
       "      <td>Og8ys1</td>\n",
       "      <td>0</td>\n",
       "      <td>2</td>\n",
       "      <td>5</td>\n",
       "      <td>1334707200</td>\n",
       "      <td>Great Taste . . .</td>\n",
       "      <td>and I want to congratulate the graphic artist ...</td>\n",
       "    </tr>\n",
       "  </tbody>\n",
       "</table>\n",
       "</div>"
      ],
      "text/plain": [
       "       Id   ProductId          UserId             ProfileName  \\\n",
       "0  165257  B000EVG8J2  A1L01D2BD3RKVO  B. Miller \"pet person\"   \n",
       "1  231466  B0000BXJIS  A3U62RE5XZDP0G                   Marty   \n",
       "2  427828  B008FHUFAU   AOXC0JQQZGGB6         Kenneth Shevlin   \n",
       "3  433955  B006BXV14E  A3PWPNZVMNX3PA             rareoopdvds   \n",
       "4   70261  B007I7Z3Z0  A1XNZ7PCE45KK7                  Og8ys1   \n",
       "\n",
       "   HelpfulnessNumerator  HelpfulnessDenominator  Score        Time  \\\n",
       "0                     0                       0      5  1268179200   \n",
       "1                     0                       0      5  1298937600   \n",
       "2                     0                       2      3  1224028800   \n",
       "3                     0                       1      2  1335312000   \n",
       "4                     0                       2      5  1334707200   \n",
       "\n",
       "                                        Summary  \\\n",
       "0  Crunchy & Good Gluten-Free Sandwich Cookies!   \n",
       "1                            great kitty treats   \n",
       "2                                  COFFEE TASTE   \n",
       "3              So the Mini-Wheats were too big?   \n",
       "4                             Great Taste . . .   \n",
       "\n",
       "                                                Text  \n",
       "0  Having tried a couple of other brands of glute...  \n",
       "1  My cat loves these treats. If ever I can't fin...  \n",
       "2  A little less than I expected.  It tends to ha...  \n",
       "3  First there was Frosted Mini-Wheats, in origin...  \n",
       "4  and I want to congratulate the graphic artist ...  "
      ]
     },
     "execution_count": 94,
     "metadata": {},
     "output_type": "execute_result"
    }
   ],
   "source": [
    "import pandas as pd\n",
    "import numpy as np\n",
    "\n",
    "# Load dataset\n",
    "df = pd.read_csv(\"../data/Reviews.sample.csv\")\n",
    "df.head()"
   ]
  },
  {
   "cell_type": "markdown",
   "id": "66f9eb9f",
   "metadata": {},
   "source": [
    "## Feature Engineering: Creating Sentiment Labels\n",
    "\n",
    "We'll transform the original 5-star rating system into binary sentiment labels:\n",
    "\n",
    "**Transformation logic:**\n",
    "- Scores ≥ 3 → Positive (1)\n",
    "- Scores < 3 → Negative (0)\n",
    "\n",
    "We'll also select only the relevant columns (Text and Sentiment) and remove any rows with missing values to ensure data quality."
   ]
  },
  {
   "cell_type": "code",
   "execution_count": 95,
   "id": "b615653b",
   "metadata": {},
   "outputs": [
    {
     "data": {
      "text/html": [
       "<div>\n",
       "<style scoped>\n",
       "    .dataframe tbody tr th:only-of-type {\n",
       "        vertical-align: middle;\n",
       "    }\n",
       "\n",
       "    .dataframe tbody tr th {\n",
       "        vertical-align: top;\n",
       "    }\n",
       "\n",
       "    .dataframe thead th {\n",
       "        text-align: right;\n",
       "    }\n",
       "</style>\n",
       "<table border=\"1\" class=\"dataframe\">\n",
       "  <thead>\n",
       "    <tr style=\"text-align: right;\">\n",
       "      <th></th>\n",
       "      <th>Text</th>\n",
       "      <th>Sentiment</th>\n",
       "    </tr>\n",
       "  </thead>\n",
       "  <tbody>\n",
       "    <tr>\n",
       "      <th>0</th>\n",
       "      <td>Having tried a couple of other brands of glute...</td>\n",
       "      <td>1</td>\n",
       "    </tr>\n",
       "    <tr>\n",
       "      <th>1</th>\n",
       "      <td>My cat loves these treats. If ever I can't fin...</td>\n",
       "      <td>1</td>\n",
       "    </tr>\n",
       "    <tr>\n",
       "      <th>2</th>\n",
       "      <td>A little less than I expected.  It tends to ha...</td>\n",
       "      <td>1</td>\n",
       "    </tr>\n",
       "    <tr>\n",
       "      <th>3</th>\n",
       "      <td>First there was Frosted Mini-Wheats, in origin...</td>\n",
       "      <td>0</td>\n",
       "    </tr>\n",
       "    <tr>\n",
       "      <th>4</th>\n",
       "      <td>and I want to congratulate the graphic artist ...</td>\n",
       "      <td>1</td>\n",
       "    </tr>\n",
       "  </tbody>\n",
       "</table>\n",
       "</div>"
      ],
      "text/plain": [
       "                                                Text  Sentiment\n",
       "0  Having tried a couple of other brands of glute...          1\n",
       "1  My cat loves these treats. If ever I can't fin...          1\n",
       "2  A little less than I expected.  It tends to ha...          1\n",
       "3  First there was Frosted Mini-Wheats, in origin...          0\n",
       "4  and I want to congratulate the graphic artist ...          1"
      ]
     },
     "execution_count": 95,
     "metadata": {},
     "output_type": "execute_result"
    }
   ],
   "source": [
    "# Keep relevant columns\n",
    "df = df[['Score', 'Text']].dropna()\n",
    "df['Sentiment'] = df['Score'].apply(lambda x: 1 if x >= 3 else 0)\n",
    "df = df[['Text', 'Sentiment']]\n",
    "df.head()"
   ]
  },
  {
   "cell_type": "markdown",
   "id": "b6ceda1e",
   "metadata": {},
   "source": [
    "## Text Cleaning and Preprocessing\n",
    "\n",
    "Raw text data contains noise that can hinder model performance. We'll apply standard text cleaning steps:\n",
    "\n",
    "**Cleaning operations:**\n",
    "1. Convert to lowercase (standardize text)\n",
    "2. Remove URLs (not useful for sentiment)\n",
    "3. Remove punctuation (focus on words)\n",
    "4. Remove numbers (rarely contribute to sentiment)\n",
    "5. Remove extra whitespace (normalize formatting)\n",
    "\n",
    "This creates a `Clean_Text` column with processed reviews ready for analysis."
   ]
  },
  {
   "cell_type": "code",
   "execution_count": 96,
   "id": "ee68929d",
   "metadata": {},
   "outputs": [
    {
     "data": {
      "text/html": [
       "<div>\n",
       "<style scoped>\n",
       "    .dataframe tbody tr th:only-of-type {\n",
       "        vertical-align: middle;\n",
       "    }\n",
       "\n",
       "    .dataframe tbody tr th {\n",
       "        vertical-align: top;\n",
       "    }\n",
       "\n",
       "    .dataframe thead th {\n",
       "        text-align: right;\n",
       "    }\n",
       "</style>\n",
       "<table border=\"1\" class=\"dataframe\">\n",
       "  <thead>\n",
       "    <tr style=\"text-align: right;\">\n",
       "      <th></th>\n",
       "      <th>Text</th>\n",
       "      <th>Sentiment</th>\n",
       "      <th>Clean_Text</th>\n",
       "    </tr>\n",
       "  </thead>\n",
       "  <tbody>\n",
       "    <tr>\n",
       "      <th>0</th>\n",
       "      <td>Having tried a couple of other brands of glute...</td>\n",
       "      <td>1</td>\n",
       "      <td>having tried a couple of other brands of glute...</td>\n",
       "    </tr>\n",
       "    <tr>\n",
       "      <th>1</th>\n",
       "      <td>My cat loves these treats. If ever I can't fin...</td>\n",
       "      <td>1</td>\n",
       "      <td>my cat loves these treats if ever i cant find ...</td>\n",
       "    </tr>\n",
       "    <tr>\n",
       "      <th>2</th>\n",
       "      <td>A little less than I expected.  It tends to ha...</td>\n",
       "      <td>1</td>\n",
       "      <td>a little less than i expected it tends to have...</td>\n",
       "    </tr>\n",
       "    <tr>\n",
       "      <th>3</th>\n",
       "      <td>First there was Frosted Mini-Wheats, in origin...</td>\n",
       "      <td>0</td>\n",
       "      <td>first there was frosted miniwheats in original...</td>\n",
       "    </tr>\n",
       "    <tr>\n",
       "      <th>4</th>\n",
       "      <td>and I want to congratulate the graphic artist ...</td>\n",
       "      <td>1</td>\n",
       "      <td>and i want to congratulate the graphic artist ...</td>\n",
       "    </tr>\n",
       "  </tbody>\n",
       "</table>\n",
       "</div>"
      ],
      "text/plain": [
       "                                                Text  Sentiment  \\\n",
       "0  Having tried a couple of other brands of glute...          1   \n",
       "1  My cat loves these treats. If ever I can't fin...          1   \n",
       "2  A little less than I expected.  It tends to ha...          1   \n",
       "3  First there was Frosted Mini-Wheats, in origin...          0   \n",
       "4  and I want to congratulate the graphic artist ...          1   \n",
       "\n",
       "                                          Clean_Text  \n",
       "0  having tried a couple of other brands of glute...  \n",
       "1  my cat loves these treats if ever i cant find ...  \n",
       "2  a little less than i expected it tends to have...  \n",
       "3  first there was frosted miniwheats in original...  \n",
       "4  and i want to congratulate the graphic artist ...  "
      ]
     },
     "execution_count": 96,
     "metadata": {},
     "output_type": "execute_result"
    }
   ],
   "source": [
    "import re\n",
    "import string\n",
    "\n",
    "def clean_text(text):\n",
    "    text = text.lower()  # lowercase\n",
    "    text = re.sub(r\"http\\S+\", \"\", text)  # remove links\n",
    "    text = text.translate(str.maketrans(\"\", \"\", string.punctuation))  # remove punctuation\n",
    "    text = re.sub(r\"\\d+\", \"\", text)  # remove numbers\n",
    "    text = re.sub(r\"\\s+\", \" \", text).strip()  # remove extra spaces\n",
    "    return text\n",
    "\n",
    "df['Clean_Text'] = df['Text'].apply(clean_text)\n",
    "df.head()"
   ]
  },
  {
   "cell_type": "markdown",
   "id": "0bcadbf5",
   "metadata": {},
   "source": [
    "## Check for Duplicates and Missing Values\n",
    "\n",
    "Duplicate reviews and missing data can introduce bias and reduce model performance.\n",
    "\n",
    "**What we're looking for:**\n",
    "- Null values in any column\n",
    "- Duplicate reviews (based on cleaned text)\n",
    "\n",
    "If duplicates are found, we'll remove them to ensure each review is unique in our training data."
   ]
  },
  {
   "cell_type": "code",
   "execution_count": 97,
   "id": "c96e13c0",
   "metadata": {},
   "outputs": [],
   "source": [
    "df.isnull().sum()\n",
    "df.duplicated(subset='Clean_Text').sum()\n",
    "# Remove duplicates\n",
    "df.drop_duplicates(subset='Clean_Text', inplace=True)\n"
   ]
  },
  {
   "cell_type": "markdown",
   "id": "5cb76b86",
   "metadata": {},
   "source": [
    "** Inspect Random Samples **"
   ]
  },
  {
   "cell_type": "code",
   "execution_count": 98,
   "id": "b5fd6491",
   "metadata": {},
   "outputs": [
    {
     "name": "stdout",
     "output_type": "stream",
     "text": [
      "🟢 Positive Reviews:\n",
      "- absolutely delicious and super handy shelfstable asceptic lowfat organic milk saves time and gas money when im out of milk and but need a cup or two an easy way to live a greener life by not driving unnecessarily in the olympia area the cartons can also be recycled check to see if they can in your areabr br these little cartons have earned a permanent spot in my pantry in fact ive signed up for amazons subscriber service where they will automatically send out a box of them at an interval i chose what could be more convenient\n",
      "- i buy at least a case of this tea every year so i have some all year long and for gift giving most of the people who have received it say that they enjoy it too\n",
      "- my local pet superstore quit carrying this dogfood which i have been feeding my dog for the last three years i have an year old german sheppard mix petco sold it through amazon though the price was about eight dollars more than what i am used to spending i see that it fluctuates though so ill buy more often at the lower price\n",
      "- this is my favorite salsa very difficult to find in stores so i was delighted when i saw that it could be ordered amazon my last order however was mislabeled i think i have been enjoying this salsa for years i order the mild for me and the medium for my husband but my last order of mild salsa was definitely not mild it was medium or hot so beware\n",
      "- my family loves this tea take qt water in a measuring cup heat to boiling put in tea bags steep for at least an hour i leave it overnight pour the tea into a gallon container put in to c sugar add another quart of water mix and youve got great iced tea we have this and lemon lift in the fridge yearround\n",
      "\n",
      "🔴 Negative Reviews:\n",
      "- my kids didnt like the taste liked the yellow the best but they took them anyway about two weeks after starting them my son started having problems with constipation and my daughter had back pain cant say for sure if it was related to these vitaminshowever i stopped using them and everything seems to be fine nowcoincidence maybe\n",
      "- after eating popchips for some time i thought i would try something different and came across these firstly i missed that they were fries i could live with that but when i tried the bbq i was very disappointed there was practically no flavor to them when i finished the bag i noticed a lot of the flavoring in the bottom of the bag i tried other flavors and they had little to no flavorbr br popchips are amazing and so much flavor with each chip compared to these\n",
      "- lindt changed the recipe and its completely blend sweeter and leaves a greasy texture in your mouth when it melts what are these people thinking that their customers are dumb or what im so disappointed this new chocolate sucks and i feel cheated\n",
      "- awful this tastes like cough syrup no returns are allowed on this item now im stuck with a big box\n",
      "- i thought they were as good as the traders joe almonds but because of the free shipping i ordered but when i tasted them they were a little over bake for me then they only have little sesame i will not buy this product again\n"
     ]
    }
   ],
   "source": [
    "# Pick 5 random positive and negative reviews\n",
    "print(\"🟢 Positive Reviews:\")\n",
    "for t in df[df['Sentiment']==1]['Clean_Text'].sample(5, random_state=42):\n",
    "    print(\"-\", t)\n",
    "    \n",
    "print(\"\\n🔴 Negative Reviews:\")\n",
    "for t in df[df['Sentiment']==0]['Clean_Text'].sample(5, random_state=42):\n",
    "    print(\"-\", t)\n"
   ]
  },
  {
   "cell_type": "markdown",
   "id": "23e1856b",
   "metadata": {},
   "source": [
    "** Review length distribution **\n",
    "- might remove short/really long reviews since they might mess with the results"
   ]
  },
  {
   "cell_type": "code",
   "execution_count": 99,
   "id": "69e2992b",
   "metadata": {},
   "outputs": [
    {
     "data": {
      "image/png": "[encoded data removed]",
      "text/plain": [
       "<Figure size 640x480 with 1 Axes>"
      ]
     },
     "metadata": {},
     "output_type": "display_data"
    }
   ],
   "source": [
    "df['length'] = df['Clean_Text'].apply(len)\n",
    "df['length'].describe()\n",
    "plt.hist(df['length'], bins=50)\n",
    "plt.title(\"Review Length Distribution\")\n",
    "plt.xlabel(\"Length\")\n",
    "plt.ylabel(\"Frequency\")\n",
    "plt.show()\n"
   ]
  },
  {
   "cell_type": "markdown",
   "id": "397626d8",
   "metadata": {},
   "source": [
    "** removing short/really long review **"
   ]
  },
  {
   "cell_type": "code",
   "execution_count": 100,
   "id": "17843a80",
   "metadata": {},
   "outputs": [
    {
     "name": "stdout",
     "output_type": "stream",
     "text": [
      "✅ Removed 451 reviews outside length range (20–2000 chars).\n",
      "Remaining: 45,859 reviews.\n"
     ]
    }
   ],
   "source": [
    "min_len = 20\n",
    "max_len = 2000\n",
    "\n",
    "before = df.shape[0]\n",
    "df = df[(df['length'] >= min_len) & (df['length'] <= max_len)]\n",
    "after = df.shape[0]\n",
    "\n",
    "print(f\"✅ Removed {before - after:,} reviews outside length range ({min_len}–{max_len} chars).\")\n",
    "print(f\"Remaining: {after:,} reviews.\")\n"
   ]
  },
  {
   "cell_type": "code",
   "execution_count": 101,
   "id": "e20a6964",
   "metadata": {},
   "outputs": [
    {
     "data": {
      "image/png": "[encoded data removed]",
      "text/plain": [
       "<Figure size 640x480 with 1 Axes>"
      ]
     },
     "metadata": {},
     "output_type": "display_data"
    }
   ],
   "source": [
    "plt.hist(df['length'], bins=50)\n",
    "plt.title(\"Review Length Distribution\")\n",
    "plt.xlabel(\"Length\")\n",
    "plt.ylabel(\"Frequency\")\n",
    "plt.show()"
   ]
  },
  {
   "cell_type": "markdown",
   "id": "8d258dee",
   "metadata": {},
   "source": [
    "## Data Quality Assessment\n",
    "\n",
    "Now let's examine the cleaned dataset to understand its characteristics:\n",
    "\n",
    "**Key metrics to check:**\n",
    "- Dataset shape (number of rows and columns)\n",
    "- Data types of each column\n",
    "- Sentiment class distribution (how balanced are positive vs negative reviews?)\n",
    "\n",
    "Understanding these properties helps us identify potential issues like class imbalance that may affect model training."
   ]
  },
  {
   "cell_type": "code",
   "execution_count": 102,
   "id": "ab9e5fa7",
   "metadata": {},
   "outputs": [
    {
     "name": "stdout",
     "output_type": "stream",
     "text": [
      "Shape: (45859, 4)\n",
      "<class 'pandas.core.frame.DataFrame'>\n",
      "Index: 45859 entries, 0 to 49999\n",
      "Data columns (total 4 columns):\n",
      " #   Column      Non-Null Count  Dtype \n",
      "---  ------      --------------  ----- \n",
      " 0   Text        45859 non-null  object\n",
      " 1   Sentiment   45859 non-null  int64 \n",
      " 2   Clean_Text  45859 non-null  object\n",
      " 3   length      45859 non-null  int64 \n",
      "dtypes: int64(2), object(2)\n",
      "memory usage: 1.7+ MB\n"
     ]
    },
    {
     "data": {
      "text/plain": [
       "Sentiment\n",
       "1    0.85861\n",
       "0    0.14139\n",
       "Name: proportion, dtype: float64"
      ]
     },
     "execution_count": 102,
     "metadata": {},
     "output_type": "execute_result"
    }
   ],
   "source": [
    "print(\"Shape:\", df.shape)\n",
    "df.info()\n",
    "df['Sentiment'].value_counts(normalize=True)"
   ]
  },
  {
   "cell_type": "markdown",
   "id": "e4740a67",
   "metadata": {},
   "source": [
    "## Visualize Sentiment Distribution\n",
    "\n",
    "Let's create a bar chart to see how balanced our dataset is between positive and negative sentiments."
   ]
  },
  {
   "cell_type": "code",
   "execution_count": 103,
   "id": "7cdde158",
   "metadata": {},
   "outputs": [
    {
     "data": {
      "image/png": "[encoded data removed]",
      "text/plain": [
       "<Figure size 640x480 with 1 Axes>"
      ]
     },
     "metadata": {},
     "output_type": "display_data"
    }
   ],
   "source": [
    "import matplotlib.pyplot as plt\n",
    "\n",
    "df['Sentiment'].value_counts().plot(kind='bar', color=['green','red'])\n",
    "plt.title(\"Sentiment Distribution (0 = Negative, 1 = Positive)\")\n",
    "plt.xlabel(\"Sentiment\")\n",
    "plt.ylabel(\"Count\")\n",
    "plt.show()"
   ]
  },
  {
   "cell_type": "markdown",
   "id": "1a19636a",
   "metadata": {},
   "source": [
    "## Save Cleaned Dataset\n",
    "\n",
    "Now that we've completed all cleaning and preprocessing steps, let's save the cleaned dataset for use in model training.\n",
    "\n",
    "The cleaned dataset will include:\n",
    "- `Clean_Text`: Preprocessed review text\n",
    "- `Sentiment`: Binary label (0 = Negative, 1 = Positive)\n",
    "- `Text`: Original text (for reference)\n",
    "- `length`: Character count of cleaned text"
   ]
  },
  {
   "cell_type": "markdown",
   "id": "08179d94",
   "metadata": {},
   "source": [
    "We see that the data is a skewed for positive we'll need to balance it somehow.\n",
    "we'll keep it like this for now till we see the first result of the training"
   ]
  },
  {
   "cell_type": "code",
   "execution_count": 104,
   "id": "85823b82",
   "metadata": {},
   "outputs": [
    {
     "name": "stdout",
     "output_type": "stream",
     "text": [
      "✅ Clean dataset saved as data/clean_reviews.csv\n"
     ]
    }
   ],
   "source": [
    "df.to_csv(\"../data/clean_reviews.csv\", index=False)\n",
    "print(\"✅ Clean dataset saved as data/clean_reviews.csv\")"
   ]
  }
 ],
 "metadata": {
  "kernelspec": {
   "display_name": "Python 3",
   "language": "python",
   "name": "python3"
  },
  "language_info": {
   "codemirror_mode": {
    "name": "ipython",
    "version": 3
   },
   "file_extension": ".py",
   "mimetype": "text/x-python",
   "name": "python",
   "nbconvert_exporter": "python",
   "pygments_lexer": "ipython3",
   "version": "3.11.9"
  }
 },
 "nbformat": 4,
 "nbformat_minor": 5
}
